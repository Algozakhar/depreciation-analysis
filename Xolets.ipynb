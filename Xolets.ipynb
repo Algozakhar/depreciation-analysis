{
  "nbformat": 4,
  "nbformat_minor": 0,
  "metadata": {
    "colab": {
      "provenance": [],
      "authorship_tag": "ABX9TyP2youAfqWW0/kCBdTX0aff",
      "include_colab_link": true
    },
    "kernelspec": {
      "name": "python3",
      "display_name": "Python 3"
    },
    "language_info": {
      "name": "python"
    },
    "gpuClass": "standard"
  },
  "cells": [
    {
      "cell_type": "markdown",
      "metadata": {
        "id": "view-in-github",
        "colab_type": "text"
      },
      "source": [
        "<a href=\"https://colab.research.google.com/github/AristarkhovZakhar/depreciation-analysis/blob/main/Xolets.ipynb\" target=\"_parent\"><img src=\"https://colab.research.google.com/assets/colab-badge.svg\" alt=\"Open In Colab\"/></a>"
      ]
    },
    {
      "cell_type": "code",
      "source": [
        "from numpy import array\n",
        "import numpy as np"
      ],
      "metadata": {
        "id": "4dAHyYB6cIoP"
      },
      "execution_count": 118,
      "outputs": []
    },
    {
      "cell_type": "code",
      "source": [
        "from numpy.linalg.linalg import matrix_power\n",
        "#разложение Холецкого возможно для положительно определенных матриц\n",
        "def xolets(matrix):\n",
        "    # Проверка на положительную определенность матрицы\n",
        "    matrix_ = matrix\n",
        "    assert is_positive(array(matrix)) == True, \"Матрица должна быть положительно определена\"\n",
        "\n",
        "    n = len(matrix)\n",
        "    l=np.zeros_like(matrix)\n",
        "    for j in range(n):\n",
        "        for i in range(j,n):\n",
        "            if i==j:\n",
        "                s=0\n",
        "                for k in range(j):\n",
        "                    s=s+l[i,k]**2\n",
        "                l[i,j]=np.sqrt(matrix[i,j]-s)\n",
        "            else:\n",
        "                s=0\n",
        "                for k in range(j):\n",
        "                    s=s+l[i,k]*l[j,k]\n",
        "                l[i,j]=(matrix[i,j]-s)/l[j,j]\n",
        "    return(l)\n",
        "\n"
      ],
      "metadata": {
        "id": "Lin78maJcQFw"
      },
      "execution_count": 119,
      "outputs": []
    },
    {
      "cell_type": "code",
      "source": [
        "def backward_gauss_up1(m,target):\n",
        "    n = len(m)\n",
        "    solution = [0 for _ in range(n)]\n",
        "    for i in range(n):\n",
        "        solution[i] = target[i] / m[i][i]\n",
        "        for j in range(i+1, n):\n",
        "            target[j] -= m[j][i] * solution[i]\n",
        "    return solution"
      ],
      "metadata": {
        "id": "OoUXdkb3zwJ1"
      },
      "execution_count": 120,
      "outputs": []
    },
    {
      "cell_type": "code",
      "source": [
        "def backward_gauss_down1(m,target):\n",
        "    n = len(m)\n",
        "    solution = [0 for _ in range(n)]\n",
        "    for i in range(n - 1, -1, -1):\n",
        "        solution[i] = target[i] / m[i][i]\n",
        "        for j in range(i - 1, -1, -1):\n",
        "            target[j] -= m[j][i] * solution[i]\n",
        "    return solution"
      ],
      "metadata": {
        "id": "dWjGkWcz4V-w"
      },
      "execution_count": 121,
      "outputs": []
    },
    {
      "cell_type": "code",
      "source": [
        "def backward_gauss_up2(m,target):\n",
        "    n = len(m)\n",
        "    l = len(m[0])\n",
        "    solution = [[0 for _ in range(l)] for _ in range(n)]\n",
        "    for i in range(n):\n",
        "      for k in range(l-1):\n",
        "        solution[i][k] = target[i][k] / m[i][i]\n",
        "        for j in range(i+1, n):\n",
        "          for p in range(l-1):\n",
        "            target[j][p] -= m[j][i] * solution[i][p]\n",
        "    return solution"
      ],
      "metadata": {
        "id": "zEjaies32yzN"
      },
      "execution_count": 122,
      "outputs": []
    },
    {
      "cell_type": "code",
      "source": [
        "def backward_gauss_down2(m,target):\n",
        "    n = len(m)\n",
        "    l = len(m[0])\n",
        "    solution = [[0 for _ in range(l)] for _ in range(n)]\n",
        "    for i in range(n):\n",
        "      for k in range(n - 1, -1, -1):\n",
        "        solution[i][k] = target[i][k] / m[i][i]\n",
        "        for j in range(i - 1, -1, -1):\n",
        "          for p in range(l-1):\n",
        "            target[j][p] -= m[j][i] * solution[i][p]\n",
        "    return solution"
      ],
      "metadata": {
        "id": "Y-vfQjBD-Vxz"
      },
      "execution_count": 123,
      "outputs": []
    },
    {
      "cell_type": "code",
      "source": [
        "def is_positive(A):\n",
        "  assert A.shape[0] == A.shape[1], \"Матрица не квадратная\"\n",
        "  n = A.shape[0]\n",
        "  for i in range(1,n+1):\n",
        "    print(A[0:i,0:i])\n",
        "    if np.linalg.det(A[0:i,0:i]) <= 0 :\n",
        "      return False\n",
        "  return True"
      ],
      "metadata": {
        "id": "0ycoJ_DZ_udJ"
      },
      "execution_count": 124,
      "outputs": []
    },
    {
      "cell_type": "code",
      "source": [
        "def find_solution(A, B):\n",
        "  L = xolets(array(A))\n",
        "  L_T = list(array(L).T)\n",
        "  print(B)\n",
        "  if type(B[0]) is not list or len(B[0])>1:\n",
        "    Y = backward_gauss_up1(L,B)\n",
        "    X = backward_gauss_down1(L_T,Y)\n",
        "  else:\n",
        "     Y = backward_gauss_up1(L,B)\n",
        "     X = backward_gauss_down1(L_T,Y)\n",
        "  return X"
      ],
      "metadata": {
        "id": "a2lbdzL4_eVh"
      },
      "execution_count": 125,
      "outputs": []
    },
    {
      "cell_type": "code",
      "source": [
        "m1 = [[81,-45,45],\n",
        "       [-45,50,-15],\n",
        "       [45,-15,38]]\n",
        "target1 = [531,-460,193]"
      ],
      "metadata": {
        "id": "h0zm6Cf0CmN1"
      },
      "execution_count": 126,
      "outputs": []
    },
    {
      "cell_type": "code",
      "source": [
        "find_solution(m1,target1)"
      ],
      "metadata": {
        "colab": {
          "base_uri": "https://localhost:8080/"
        },
        "id": "B8lsn68eCyXX",
        "outputId": "6098901f-87ca-44d5-dea9-5a868748a3d0"
      },
      "execution_count": 127,
      "outputs": [
        {
          "output_type": "stream",
          "name": "stdout",
          "text": [
            "[[81]]\n",
            "[[ 81 -45]\n",
            " [-45  50]]\n",
            "[[ 81 -45  45]\n",
            " [-45  50 -15]\n",
            " [ 45 -15  38]]\n",
            "[531, -460, 193]\n"
          ]
        },
        {
          "output_type": "execute_result",
          "data": {
            "text/plain": [
              "[6.0, -5.0, -4.0]"
            ]
          },
          "metadata": {},
          "execution_count": 127
        }
      ]
    },
    {
      "cell_type": "code",
      "source": [
        "m2 = [[1,0,0],\n",
        "      [0,1,0],\n",
        "      [0,0,1]]\n",
        "\n",
        "target2 = [[-2,0],[0,0],[1,0]]"
      ],
      "metadata": {
        "id": "W4u40LHp-ntx"
      },
      "execution_count": 141,
      "outputs": []
    },
    {
      "cell_type": "code",
      "source": [
        "find_solution(m2,target2)"
      ],
      "metadata": {
        "colab": {
          "base_uri": "https://localhost:8080/"
        },
        "id": "6wLdY3dBDOOX",
        "outputId": "521afbea-b047-4c26-a264-e55a2d3b021c"
      },
      "execution_count": 142,
      "outputs": [
        {
          "output_type": "stream",
          "name": "stdout",
          "text": [
            "[[1]]\n",
            "[[1 0]\n",
            " [0 1]]\n",
            "[[1 0 0]\n",
            " [0 1 0]\n",
            " [0 0 1]]\n",
            "[[-2, 0], [0, 0], [1, 0]]\n"
          ]
        },
        {
          "output_type": "execute_result",
          "data": {
            "text/plain": [
              "[array([-2.,  0.]), array([0., 0.]), array([1., 0.])]"
            ]
          },
          "metadata": {},
          "execution_count": 142
        }
      ]
    },
    {
      "cell_type": "code",
      "source": [
        "is_positive(np.array([[1,0,0],\n",
        "      [0,1,0],\n",
        "      [0,0,1]]))"
      ],
      "metadata": {
        "colab": {
          "base_uri": "https://localhost:8080/"
        },
        "id": "yj7cfTyKGrD6",
        "outputId": "a6b5d2e6-a378-4e0d-8bf6-89f6fee61feb"
      },
      "execution_count": 130,
      "outputs": [
        {
          "output_type": "stream",
          "name": "stdout",
          "text": [
            "[[1]]\n",
            "[[1 0]\n",
            " [0 1]]\n",
            "[[1 0 0]\n",
            " [0 1 0]\n",
            " [0 0 1]]\n"
          ]
        },
        {
          "output_type": "execute_result",
          "data": {
            "text/plain": [
              "True"
            ]
          },
          "metadata": {},
          "execution_count": 130
        }
      ]
    },
    {
      "cell_type": "code",
      "source": [
        "def input_matrix():\n",
        "  dim_A = int(input('Введите размер квадратной матрицы A--->'))\n",
        "  dim_B_n = int(input('Ведите количество строк матрицы B--->'))\n",
        "  dim_B_m = int(input('Ведите количество столбцов матрицы B--->'))\n",
        "  print(\"Инициализация матрицы A--->\")\n",
        "  A = [[float(_) for _ in range(dim_A)] for _ in range(dim_A)]\n",
        "  print(\"Инициализация матрицы B--->\")\n",
        "  B = [[float(_) for _ in range(dim_B_m)] for _ in range(dim_B_n)]\n",
        "  return A,B"
      ],
      "metadata": {
        "id": "CmKX2H0tKLu4"
      },
      "execution_count": 139,
      "outputs": []
    },
    {
      "cell_type": "code",
      "source": [
        "A, B = input_matrix()"
      ],
      "metadata": {
        "colab": {
          "base_uri": "https://localhost:8080/",
          "height": 311
        },
        "id": "GQawd4vCLXWo",
        "outputId": "20134596-f44d-4a87-a673-171553264ff9"
      },
      "execution_count": 143,
      "outputs": [
        {
          "output_type": "error",
          "ename": "KeyboardInterrupt",
          "evalue": "ignored",
          "traceback": [
            "\u001b[0;31m---------------------------------------------------------------------------\u001b[0m",
            "\u001b[0;31mKeyboardInterrupt\u001b[0m                         Traceback (most recent call last)",
            "\u001b[0;32m<ipython-input-143-345f98a9de9d>\u001b[0m in \u001b[0;36m<module>\u001b[0;34m\u001b[0m\n\u001b[0;32m----> 1\u001b[0;31m \u001b[0mA\u001b[0m\u001b[0;34m,\u001b[0m \u001b[0mB\u001b[0m \u001b[0;34m=\u001b[0m \u001b[0minput_matrix\u001b[0m\u001b[0;34m(\u001b[0m\u001b[0;34m)\u001b[0m\u001b[0;34m\u001b[0m\u001b[0;34m\u001b[0m\u001b[0m\n\u001b[0m",
            "\u001b[0;32m<ipython-input-139-657d441e5940>\u001b[0m in \u001b[0;36minput_matrix\u001b[0;34m()\u001b[0m\n\u001b[1;32m      1\u001b[0m \u001b[0;32mdef\u001b[0m \u001b[0minput_matrix\u001b[0m\u001b[0;34m(\u001b[0m\u001b[0;34m)\u001b[0m\u001b[0;34m:\u001b[0m\u001b[0;34m\u001b[0m\u001b[0;34m\u001b[0m\u001b[0m\n\u001b[0;32m----> 2\u001b[0;31m   \u001b[0mdim_A\u001b[0m \u001b[0;34m=\u001b[0m \u001b[0mint\u001b[0m\u001b[0;34m(\u001b[0m\u001b[0minput\u001b[0m\u001b[0;34m(\u001b[0m\u001b[0;34m'Введите размер квадратной матрицы A--->'\u001b[0m\u001b[0;34m)\u001b[0m\u001b[0;34m)\u001b[0m\u001b[0;34m\u001b[0m\u001b[0;34m\u001b[0m\u001b[0m\n\u001b[0m\u001b[1;32m      3\u001b[0m   \u001b[0mdim_B_n\u001b[0m \u001b[0;34m=\u001b[0m \u001b[0mint\u001b[0m\u001b[0;34m(\u001b[0m\u001b[0minput\u001b[0m\u001b[0;34m(\u001b[0m\u001b[0;34m'Ведите количество строк матрицы B--->'\u001b[0m\u001b[0;34m)\u001b[0m\u001b[0;34m)\u001b[0m\u001b[0;34m\u001b[0m\u001b[0;34m\u001b[0m\u001b[0m\n\u001b[1;32m      4\u001b[0m   \u001b[0mdim_B_m\u001b[0m \u001b[0;34m=\u001b[0m \u001b[0mint\u001b[0m\u001b[0;34m(\u001b[0m\u001b[0minput\u001b[0m\u001b[0;34m(\u001b[0m\u001b[0;34m'Ведите количество столбцов матрицы B--->'\u001b[0m\u001b[0;34m)\u001b[0m\u001b[0;34m)\u001b[0m\u001b[0;34m\u001b[0m\u001b[0;34m\u001b[0m\u001b[0m\n\u001b[1;32m      5\u001b[0m   \u001b[0mprint\u001b[0m\u001b[0;34m(\u001b[0m\u001b[0;34m\"Инициализация матрицы A--->\"\u001b[0m\u001b[0;34m)\u001b[0m\u001b[0;34m\u001b[0m\u001b[0;34m\u001b[0m\u001b[0m\n",
            "\u001b[0;32m/usr/local/lib/python3.8/dist-packages/ipykernel/kernelbase.py\u001b[0m in \u001b[0;36mraw_input\u001b[0;34m(self, prompt)\u001b[0m\n\u001b[1;32m    858\u001b[0m                 \u001b[0;34m\"raw_input was called, but this frontend does not support input requests.\"\u001b[0m\u001b[0;34m\u001b[0m\u001b[0;34m\u001b[0m\u001b[0m\n\u001b[1;32m    859\u001b[0m             )\n\u001b[0;32m--> 860\u001b[0;31m         return self._input_request(str(prompt),\n\u001b[0m\u001b[1;32m    861\u001b[0m             \u001b[0mself\u001b[0m\u001b[0;34m.\u001b[0m\u001b[0m_parent_ident\u001b[0m\u001b[0;34m,\u001b[0m\u001b[0;34m\u001b[0m\u001b[0;34m\u001b[0m\u001b[0m\n\u001b[1;32m    862\u001b[0m             \u001b[0mself\u001b[0m\u001b[0;34m.\u001b[0m\u001b[0m_parent_header\u001b[0m\u001b[0;34m,\u001b[0m\u001b[0;34m\u001b[0m\u001b[0;34m\u001b[0m\u001b[0m\n",
            "\u001b[0;32m/usr/local/lib/python3.8/dist-packages/ipykernel/kernelbase.py\u001b[0m in \u001b[0;36m_input_request\u001b[0;34m(self, prompt, ident, parent, password)\u001b[0m\n\u001b[1;32m    902\u001b[0m             \u001b[0;32mexcept\u001b[0m \u001b[0mKeyboardInterrupt\u001b[0m\u001b[0;34m:\u001b[0m\u001b[0;34m\u001b[0m\u001b[0;34m\u001b[0m\u001b[0m\n\u001b[1;32m    903\u001b[0m                 \u001b[0;31m# re-raise KeyboardInterrupt, to truncate traceback\u001b[0m\u001b[0;34m\u001b[0m\u001b[0;34m\u001b[0m\u001b[0;34m\u001b[0m\u001b[0m\n\u001b[0;32m--> 904\u001b[0;31m                 \u001b[0;32mraise\u001b[0m \u001b[0mKeyboardInterrupt\u001b[0m\u001b[0;34m(\u001b[0m\u001b[0;34m\"Interrupted by user\"\u001b[0m\u001b[0;34m)\u001b[0m \u001b[0;32mfrom\u001b[0m \u001b[0;32mNone\u001b[0m\u001b[0;34m\u001b[0m\u001b[0;34m\u001b[0m\u001b[0m\n\u001b[0m\u001b[1;32m    905\u001b[0m             \u001b[0;32mexcept\u001b[0m \u001b[0mException\u001b[0m \u001b[0;32mas\u001b[0m \u001b[0me\u001b[0m\u001b[0;34m:\u001b[0m\u001b[0;34m\u001b[0m\u001b[0;34m\u001b[0m\u001b[0m\n\u001b[1;32m    906\u001b[0m                 \u001b[0mself\u001b[0m\u001b[0;34m.\u001b[0m\u001b[0mlog\u001b[0m\u001b[0;34m.\u001b[0m\u001b[0mwarning\u001b[0m\u001b[0;34m(\u001b[0m\u001b[0;34m\"Invalid Message:\"\u001b[0m\u001b[0;34m,\u001b[0m \u001b[0mexc_info\u001b[0m\u001b[0;34m=\u001b[0m\u001b[0;32mTrue\u001b[0m\u001b[0;34m)\u001b[0m\u001b[0;34m\u001b[0m\u001b[0;34m\u001b[0m\u001b[0m\n",
            "\u001b[0;31mKeyboardInterrupt\u001b[0m: Interrupted by user"
          ]
        }
      ]
    },
    {
      "cell_type": "code",
      "source": [
        "find_solution(A,B)"
      ],
      "metadata": {
        "id": "htQihG16L9y6"
      },
      "execution_count": null,
      "outputs": []
    }
  ]
}